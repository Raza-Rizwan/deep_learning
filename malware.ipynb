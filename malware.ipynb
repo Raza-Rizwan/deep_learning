{
 "cells": [
  {
   "cell_type": "code",
   "execution_count": 8,
   "metadata": {},
   "outputs": [],
   "source": [
    "import pandas as pd \n",
    "import numpy as np\n",
    "import tensorflow as tf\n"
   ]
  },
  {
   "cell_type": "code",
   "execution_count": 9,
   "metadata": {},
   "outputs": [
    {
     "data": {
      "text/html": [
       "<div>\n",
       "<style scoped>\n",
       "    .dataframe tbody tr th:only-of-type {\n",
       "        vertical-align: middle;\n",
       "    }\n",
       "\n",
       "    .dataframe tbody tr th {\n",
       "        vertical-align: top;\n",
       "    }\n",
       "\n",
       "    .dataframe thead th {\n",
       "        text-align: right;\n",
       "    }\n",
       "</style>\n",
       "<table border=\"1\" class=\"dataframe\">\n",
       "  <thead>\n",
       "    <tr style=\"text-align: right;\">\n",
       "      <th></th>\n",
       "      <th>malware</th>\n",
       "      <th>api</th>\n",
       "    </tr>\n",
       "  </thead>\n",
       "  <tbody>\n",
       "    <tr>\n",
       "      <td>0</td>\n",
       "      <td>trojan</td>\n",
       "      <td>getversion createeventa getwindowdc getdevicec...</td>\n",
       "    </tr>\n",
       "    <tr>\n",
       "      <td>1</td>\n",
       "      <td>trojan</td>\n",
       "      <td>lstrcpyw getthreadlocale lstrcmpiw globalalloc...</td>\n",
       "    </tr>\n",
       "    <tr>\n",
       "      <td>2</td>\n",
       "      <td>trojan</td>\n",
       "      <td>getthreadlocale lstrcmpiw globalalloc globalfr...</td>\n",
       "    </tr>\n",
       "    <tr>\n",
       "      <td>3</td>\n",
       "      <td>trojan</td>\n",
       "      <td>localalloc createsemaphorew createsemaphorea g...</td>\n",
       "    </tr>\n",
       "    <tr>\n",
       "      <td>4</td>\n",
       "      <td>trojan</td>\n",
       "      <td>getsystemdirectorya isdbcsleadbyte localalloc ...</td>\n",
       "    </tr>\n",
       "    <tr>\n",
       "      <td>...</td>\n",
       "      <td>...</td>\n",
       "      <td>...</td>\n",
       "    </tr>\n",
       "    <tr>\n",
       "      <td>13351</td>\n",
       "      <td>worm</td>\n",
       "      <td>getversionexw getversionexa getmodulehandlew g...</td>\n",
       "    </tr>\n",
       "    <tr>\n",
       "      <td>13352</td>\n",
       "      <td>worm</td>\n",
       "      <td>getsystemdirectorya getversionexw isdbcsleadby...</td>\n",
       "    </tr>\n",
       "    <tr>\n",
       "      <td>13353</td>\n",
       "      <td>worm</td>\n",
       "      <td>getversionexw getmodulehandlew getmodulehandle...</td>\n",
       "    </tr>\n",
       "    <tr>\n",
       "      <td>13354</td>\n",
       "      <td>worm</td>\n",
       "      <td>getversionexw getmodulehandlew getmodulehandle...</td>\n",
       "    </tr>\n",
       "    <tr>\n",
       "      <td>13355</td>\n",
       "      <td>worm</td>\n",
       "      <td>loadlibraryexw loadlibraryexa getprocaddress l...</td>\n",
       "    </tr>\n",
       "  </tbody>\n",
       "</table>\n",
       "<p>13356 rows × 2 columns</p>\n",
       "</div>"
      ],
      "text/plain": [
       "      malware                                                api\n",
       "0      trojan  getversion createeventa getwindowdc getdevicec...\n",
       "1      trojan  lstrcpyw getthreadlocale lstrcmpiw globalalloc...\n",
       "2      trojan  getthreadlocale lstrcmpiw globalalloc globalfr...\n",
       "3      trojan  localalloc createsemaphorew createsemaphorea g...\n",
       "4      trojan  getsystemdirectorya isdbcsleadbyte localalloc ...\n",
       "...       ...                                                ...\n",
       "13351    worm  getversionexw getversionexa getmodulehandlew g...\n",
       "13352    worm  getsystemdirectorya getversionexw isdbcsleadby...\n",
       "13353    worm  getversionexw getmodulehandlew getmodulehandle...\n",
       "13354    worm  getversionexw getmodulehandlew getmodulehandle...\n",
       "13355    worm  loadlibraryexw loadlibraryexa getprocaddress l...\n",
       "\n",
       "[13356 rows x 2 columns]"
      ]
     },
     "execution_count": 9,
     "metadata": {},
     "output_type": "execute_result"
    }
   ],
   "source": [
    "frame=pd.read_csv('Dataset Malware Comma & Space.csv')\n",
    "frame"
   ]
  },
  {
   "cell_type": "code",
   "execution_count": 10,
   "metadata": {},
   "outputs": [],
   "source": [
    "data=frame.sample(frac=1)"
   ]
  },
  {
   "cell_type": "code",
   "execution_count": 11,
   "metadata": {},
   "outputs": [
    {
     "name": "stdout",
     "output_type": "stream",
     "text": [
      "train_size:  10684\n",
      "test_size:  2672\n"
     ]
    }
   ],
   "source": [
    "train_size=int(len(data)*.8)\n",
    "print('train_size: ',train_size )\n",
    "print('test_size: ',len(data)-(train_size))\n"
   ]
  },
  {
   "cell_type": "code",
   "execution_count": 12,
   "metadata": {},
   "outputs": [
    {
     "data": {
      "text/plain": [
       "trojan      4138\n",
       "adware      3597\n",
       "worm        1474\n",
       "riskware    1219\n",
       "packed      1104\n",
       "virus        986\n",
       "backdoor     838\n",
       "Name: malware, dtype: int64"
      ]
     },
     "execution_count": 12,
     "metadata": {},
     "output_type": "execute_result"
    }
   ],
   "source": [
    "data['malware'].value_counts()"
   ]
  },
  {
   "cell_type": "code",
   "execution_count": 13,
   "metadata": {},
   "outputs": [],
   "source": [
    "def train_test_split(data,train_size):\n",
    "    train=data[:train_size]\n",
    "    test=data[train_size:]\n",
    "    return train , test"
   ]
  },
  {
   "cell_type": "code",
   "execution_count": 14,
   "metadata": {},
   "outputs": [],
   "source": [
    "train_malware,test_malware=train_test_split(data['malware'], train_size)\n",
    "train_api , test_api=train_test_split(data['api'],train_size)"
   ]
  },
  {
   "cell_type": "code",
   "execution_count": 15,
   "metadata": {},
   "outputs": [],
   "source": [
    "from tensorflow import keras\n",
    "max_words=1000\n",
    "tokenizer=keras.preprocessing.text.Tokenizer(num_words=max_words,\\\n",
    "                                          char_level=False)"
   ]
  },
  {
   "cell_type": "code",
   "execution_count": 16,
   "metadata": {},
   "outputs": [],
   "source": [
    "tokenizer.fit_on_texts(train_api)\n",
    "x_train=tokenizer.texts_to_matrix(train_api)\n",
    "x_test=tokenizer.texts_to_matrix(test_api)"
   ]
  },
  {
   "cell_type": "code",
   "execution_count": 17,
   "metadata": {},
   "outputs": [],
   "source": [
    "from sklearn.preprocessing import LabelEncoder\n",
    "le=LabelEncoder()\n",
    "encoded_y=le.fit_transform(train_malware)\n",
    "encoded_y_train=keras.utils.to_categorical(encoded_y)\n",
    "encoded_y=le.fit_transform(test_malware)\n",
    "encoded_y_test=keras.utils.to_categorical(encoded_y)"
   ]
  },
  {
   "cell_type": "code",
   "execution_count": 18,
   "metadata": {},
   "outputs": [
    {
     "data": {
      "text/plain": [
       "(2672, 1000)"
      ]
     },
     "execution_count": 18,
     "metadata": {},
     "output_type": "execute_result"
    }
   ],
   "source": [
    "x_test.shape"
   ]
  },
  {
   "cell_type": "code",
   "execution_count": 19,
   "metadata": {},
   "outputs": [],
   "source": [
    "batch_size=10\n",
    "epochs=5\n",
    "drop_ratio=0.5"
   ]
  },
  {
   "cell_type": "code",
   "execution_count": 20,
   "metadata": {},
   "outputs": [],
   "source": [
    "model=tf.keras.models.Sequential([\n",
    "    tf.keras.layers.Input(shape=(max_words,)),\n",
    "    tf.keras.layers.Dense(512,activation='relu'),\n",
    "    tf.keras.layers.Dense(212,activation='relu'),\n",
    "    tf.keras.layers.Dense(7,activation='softmax')\n",
    "])"
   ]
  },
  {
   "cell_type": "code",
   "execution_count": 21,
   "metadata": {},
   "outputs": [],
   "source": [
    "model.compile(optimizer='adam',loss='categorical_crossentropy',metrics=['accuracy'])"
   ]
  },
  {
   "cell_type": "code",
   "execution_count": 22,
   "metadata": {},
   "outputs": [
    {
     "name": "stdout",
     "output_type": "stream",
     "text": [
      "Train on 9615 samples, validate on 1069 samples\n",
      "Epoch 1/5\n",
      "9615/9615 [==============================] - 49s 5ms/sample - loss: 1.0935 - accuracy: 0.6264 - val_loss: 1.0114 - val_accuracy: 0.6586loss: 1.3101 - ac -\n",
      "Epoch 2/5\n",
      "9615/9615 [==============================] - 28s 3ms/sample - loss: 0.9542 - accuracy: 0.6729 - val_loss: 0.9711 - val_accuracy: 0.6707\n",
      "Epoch 3/5\n",
      "9615/9615 [==============================] - 34s 4ms/sample - loss: 0.9004 - accuracy: 0.6927 - val_loss: 0.9331 - val_accuracy: 0.6838\n",
      "Epoch 4/5\n",
      "9615/9615 [==============================] - 44s 5ms/sample - loss: 0.8617 - accuracy: 0.7031 - val_loss: 0.9412 - val_accuracy: 0.6791\n",
      "Epoch 5/5\n",
      "9615/9615 [==============================] - 37s 4ms/sample - loss: 0.8308 - accuracy: 0.7120 - val_loss: 0.9306 - val_accuracy: 0.6904\n"
     ]
    }
   ],
   "source": [
    "hist= model.fit(x_train,encoded_y_train,epochs=epochs,batch_size=batch_size,validation_split=0.1)"
   ]
  },
  {
   "cell_type": "code",
   "execution_count": 23,
   "metadata": {},
   "outputs": [
    {
     "name": "stdout",
     "output_type": "stream",
     "text": [
      "2672/1 - 2s - loss: 0.8120 - accuracy: 0.6684\n"
     ]
    },
    {
     "data": {
      "text/plain": [
       "[0.9935315701062094, 0.66841316]"
      ]
     },
     "execution_count": 23,
     "metadata": {},
     "output_type": "execute_result"
    }
   ],
   "source": [
    "model.evaluate(x_test,encoded_y_test,verbose=2)"
   ]
  },
  {
   "cell_type": "code",
   "execution_count": 24,
   "metadata": {},
   "outputs": [
    {
     "name": "stdout",
     "output_type": "stream",
     "text": [
      "10684/1 - 5s - loss: 0.9760 - accuracy: 0.7271\n"
     ]
    },
    {
     "data": {
      "text/plain": [
       "[0.8022018498760267, 0.72706854]"
      ]
     },
     "execution_count": 24,
     "metadata": {},
     "output_type": "execute_result"
    }
   ],
   "source": [
    "model.evaluate(x_train,encoded_y_train,verbose=2)"
   ]
  },
  {
   "cell_type": "markdown",
   "metadata": {},
   "source": [
    "## Hyperprameter Tunning"
   ]
  },
  {
   "cell_type": "code",
   "execution_count": 25,
   "metadata": {},
   "outputs": [],
   "source": [
    "from tensorflow import keras\n",
    "Layers = keras.layers\n",
    "models = keras.models\n",
    "def run_expriment(batch_size,epochs,drop_ratio):\n",
    "    print('batch_size: {}, epochs: {}, drop_ratio: {}'.format(batch_size,epochs,drop_ratio))\n",
    "    model=tf.keras.models.Sequential([\n",
    "        tf.keras.layers.Input(shape=(max_words,)),\n",
    "        tf.keras.layers.Dense(512,activation='relu'),\n",
    "        tf.keras.layers.Dense(212,activation='relu'),\n",
    "        tf.keras.layers.Dense(7,activation='softmax')\n",
    "    ])\n",
    "        \n",
    "    model.compile(optimizer='adam',loss='categorical_crossentropy',metrics=['accuracy'])\n",
    "    \n",
    "    hist=model.fit(x_train , encoded_y_train , epochs=epochs , batch_size=batch_size , verbose=0 , validation_split=0.1)\n",
    "    \n",
    "    score=model.evaluate(x_test , encoded_y_test , verbose=2 , batch_size=batch_size)\n",
    "    print('\\tTest loss:', score[0])\n",
    "    print('\\tTest accuracy:', score[1])\n",
    "    "
   ]
  },
  {
   "cell_type": "code",
   "execution_count": 26,
   "metadata": {},
   "outputs": [
    {
     "name": "stdout",
     "output_type": "stream",
     "text": [
      "batch_size: 16, epochs: 10, drop_ratio: 0.5\n",
      "2672/1 - 3s - loss: 0.7947 - accuracy: 0.6703\n",
      "\tTest loss: 1.0275757698241823\n",
      "\tTest accuracy: 0.67028445\n"
     ]
    }
   ],
   "source": [
    "batch_size=16\n",
    "epochs=10\n",
    "drop_ratio=0.5\n",
    "run_expriment(batch_size,epochs,drop_ratio)"
   ]
  },
  {
   "cell_type": "code",
   "execution_count": 43,
   "metadata": {},
   "outputs": [
    {
     "name": "stdout",
     "output_type": "stream",
     "text": [
      "Please ENter a predected number1\n"
     ]
    },
    {
     "data": {
      "text/plain": [
       "array([[0.0586433 , 0.00790649, 0.00574625, 0.8493915 , 0.02943379,\n",
       "        0.03319522, 0.0156834 ]], dtype=float32)"
      ]
     },
     "execution_count": 43,
     "metadata": {},
     "output_type": "execute_result"
    }
   ],
   "source": [
    "i=int(input('Please ENter a predected number'))\n",
    "predection=model.predict(np.array([x_test[i]]))\n",
    "predection"
   ]
  },
  {
   "cell_type": "code",
   "execution_count": 44,
   "metadata": {},
   "outputs": [
    {
     "data": {
      "text/plain": [
       "'riskware'"
      ]
     },
     "execution_count": 44,
     "metadata": {},
     "output_type": "execute_result"
    }
   ],
   "source": [
    "x=le.classes_\n",
    "predection_lable=x[np.argmax(predection)]\n",
    "predection_lable"
   ]
  },
  {
   "cell_type": "code",
   "execution_count": 45,
   "metadata": {},
   "outputs": [
    {
     "name": "stdout",
     "output_type": "stream",
     "text": [
      "ACtual_lable: trojan\n",
      "Predected_lable: riskware\n"
     ]
    }
   ],
   "source": [
    "print('ACtual_lable:',test_malware.iloc[3])\n",
    "print('Predected_lable:',predection_lable)"
   ]
  },
  {
   "cell_type": "code",
   "execution_count": null,
   "metadata": {},
   "outputs": [],
   "source": []
  }
 ],
 "metadata": {
  "kernelspec": {
   "display_name": "Python 3",
   "language": "python",
   "name": "python3"
  },
  "language_info": {
   "codemirror_mode": {
    "name": "ipython",
    "version": 3
   },
   "file_extension": ".py",
   "mimetype": "text/x-python",
   "name": "python",
   "nbconvert_exporter": "python",
   "pygments_lexer": "ipython3",
   "version": "3.7.4"
  }
 },
 "nbformat": 4,
 "nbformat_minor": 2
}
