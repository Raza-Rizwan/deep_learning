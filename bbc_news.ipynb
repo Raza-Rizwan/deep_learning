{
 "cells": [
  {
   "cell_type": "code",
   "execution_count": 2,
   "metadata": {},
   "outputs": [],
   "source": [
    "import tensorflow as tf\n",
    "import numpy as np\n",
    "import pandas as pd\n",
    "from sklearn.preprocessing import LabelEncoder\n",
    "from tensorflow import keras"
   ]
  },
  {
   "cell_type": "code",
   "execution_count": 1,
   "metadata": {
    "scrolled": true
   },
   "outputs": [
    {
     "ename": "NameError",
     "evalue": "name 'pd' is not defined",
     "output_type": "error",
     "traceback": [
      "\u001b[1;31m---------------------------------------------------------------------------\u001b[0m",
      "\u001b[1;31mNameError\u001b[0m                                 Traceback (most recent call last)",
      "\u001b[1;32m<ipython-input-1-63a105bbd3e0>\u001b[0m in \u001b[0;36m<module>\u001b[1;34m\u001b[0m\n\u001b[1;32m----> 1\u001b[1;33m \u001b[0mframe\u001b[0m\u001b[1;33m=\u001b[0m\u001b[0mpd\u001b[0m\u001b[1;33m.\u001b[0m\u001b[0mread_csv\u001b[0m\u001b[1;33m(\u001b[0m\u001b[1;34m'compresive_strength_concrete.csv'\u001b[0m\u001b[1;33m)\u001b[0m\u001b[1;33m\u001b[0m\u001b[1;33m\u001b[0m\u001b[0m\n\u001b[0m\u001b[0;32m      2\u001b[0m \u001b[0mframe\u001b[0m\u001b[1;33m\u001b[0m\u001b[1;33m\u001b[0m\u001b[0m\n",
      "\u001b[1;31mNameError\u001b[0m: name 'pd' is not defined"
     ]
    }
   ],
   "source": [
    "frame=pd.read_csv('bbc-text.csv')\n",
    "frame"
   ]
  },
  {
   "cell_type": "code",
   "execution_count": 4,
   "metadata": {},
   "outputs": [
    {
     "data": {
      "text/plain": [
       "sport            511\n",
       "business         510\n",
       "politics         417\n",
       "tech             401\n",
       "entertainment    386\n",
       "Name: category, dtype: int64"
      ]
     },
     "execution_count": 4,
     "metadata": {},
     "output_type": "execute_result"
    }
   ],
   "source": [
    "frame['category'].value_counts()"
   ]
  },
  {
   "cell_type": "code",
   "execution_count": 5,
   "metadata": {},
   "outputs": [
    {
     "data": {
      "text/html": [
       "<div>\n",
       "<style scoped>\n",
       "    .dataframe tbody tr th:only-of-type {\n",
       "        vertical-align: middle;\n",
       "    }\n",
       "\n",
       "    .dataframe tbody tr th {\n",
       "        vertical-align: top;\n",
       "    }\n",
       "\n",
       "    .dataframe thead th {\n",
       "        text-align: right;\n",
       "    }\n",
       "</style>\n",
       "<table border=\"1\" class=\"dataframe\">\n",
       "  <thead>\n",
       "    <tr style=\"text-align: right;\">\n",
       "      <th></th>\n",
       "      <th>category</th>\n",
       "      <th>text</th>\n",
       "    </tr>\n",
       "  </thead>\n",
       "  <tbody>\n",
       "    <tr>\n",
       "      <td>1867</td>\n",
       "      <td>sport</td>\n",
       "      <td>federer breezes into semi-finals roger federer...</td>\n",
       "    </tr>\n",
       "    <tr>\n",
       "      <td>1044</td>\n",
       "      <td>tech</td>\n",
       "      <td>domain system scam fear a system to make it ea...</td>\n",
       "    </tr>\n",
       "    <tr>\n",
       "      <td>1970</td>\n",
       "      <td>sport</td>\n",
       "      <td>balco case trial date pushed back the trial da...</td>\n",
       "    </tr>\n",
       "    <tr>\n",
       "      <td>936</td>\n",
       "      <td>sport</td>\n",
       "      <td>charvis set to lose fitness bid flanker colin ...</td>\n",
       "    </tr>\n",
       "    <tr>\n",
       "      <td>2179</td>\n",
       "      <td>entertainment</td>\n",
       "      <td>musicians to tackle us red tape musicians  gro...</td>\n",
       "    </tr>\n",
       "    <tr>\n",
       "      <td>...</td>\n",
       "      <td>...</td>\n",
       "      <td>...</td>\n",
       "    </tr>\n",
       "    <tr>\n",
       "      <td>862</td>\n",
       "      <td>politics</td>\n",
       "      <td>leaders meet over turkish eu bid tony blair ha...</td>\n",
       "    </tr>\n",
       "    <tr>\n",
       "      <td>402</td>\n",
       "      <td>tech</td>\n",
       "      <td>warnings about junk mail deluge the amount of ...</td>\n",
       "    </tr>\n",
       "    <tr>\n",
       "      <td>770</td>\n",
       "      <td>sport</td>\n",
       "      <td>prop jones ready for hard graft adam jones say...</td>\n",
       "    </tr>\n",
       "    <tr>\n",
       "      <td>927</td>\n",
       "      <td>sport</td>\n",
       "      <td>wilkinson to lead england fly-half jonny wilki...</td>\n",
       "    </tr>\n",
       "    <tr>\n",
       "      <td>589</td>\n",
       "      <td>tech</td>\n",
       "      <td>broadband fuels online change fast web access ...</td>\n",
       "    </tr>\n",
       "  </tbody>\n",
       "</table>\n",
       "<p>2225 rows × 2 columns</p>\n",
       "</div>"
      ],
      "text/plain": [
       "           category                                               text\n",
       "1867          sport  federer breezes into semi-finals roger federer...\n",
       "1044           tech  domain system scam fear a system to make it ea...\n",
       "1970          sport  balco case trial date pushed back the trial da...\n",
       "936           sport  charvis set to lose fitness bid flanker colin ...\n",
       "2179  entertainment  musicians to tackle us red tape musicians  gro...\n",
       "...             ...                                                ...\n",
       "862        politics  leaders meet over turkish eu bid tony blair ha...\n",
       "402            tech  warnings about junk mail deluge the amount of ...\n",
       "770           sport  prop jones ready for hard graft adam jones say...\n",
       "927           sport  wilkinson to lead england fly-half jonny wilki...\n",
       "589            tech  broadband fuels online change fast web access ...\n",
       "\n",
       "[2225 rows x 2 columns]"
      ]
     },
     "execution_count": 5,
     "metadata": {},
     "output_type": "execute_result"
    }
   ],
   "source": [
    "data=frame.sample(frac=1)\n",
    "data"
   ]
  },
  {
   "cell_type": "code",
   "execution_count": null,
   "metadata": {},
   "outputs": [],
   "source": []
  },
  {
   "cell_type": "code",
   "execution_count": 6,
   "metadata": {},
   "outputs": [
    {
     "name": "stdout",
     "output_type": "stream",
     "text": [
      "train_size: 1780\n",
      "445\n"
     ]
    }
   ],
   "source": [
    "train_size=int(len(data)*.8)\n",
    "print('train_size:',train_size)\n",
    "print(len(data)-train_size)"
   ]
  },
  {
   "cell_type": "code",
   "execution_count": 7,
   "metadata": {},
   "outputs": [],
   "source": [
    "def split_data(data,train_size):\n",
    "    train=data[:train_size]\n",
    "    test=data[train_size:]\n",
    "    return train, test"
   ]
  },
  {
   "cell_type": "code",
   "execution_count": 8,
   "metadata": {},
   "outputs": [],
   "source": [
    "train_cat, test_cat =split_data(data['category'], train_size)\n",
    "train_text, test_text = split_data(data['text'], train_size)"
   ]
  },
  {
   "cell_type": "code",
   "execution_count": 9,
   "metadata": {},
   "outputs": [
    {
     "data": {
      "text/plain": [
       "280     levy takes whitbread novel prize orange prize ...\n",
       "1322    edwards tips idowu for euro gold world outdoor...\n",
       "1928    ukraine strikes turkmen gas deal ukraine has a...\n",
       "850     gardener wins double in glasgow britain s jaso...\n",
       "739     labour s election love-in peace and love have ...\n",
       "                              ...                        \n",
       "862     leaders meet over turkish eu bid tony blair ha...\n",
       "402     warnings about junk mail deluge the amount of ...\n",
       "770     prop jones ready for hard graft adam jones say...\n",
       "927     wilkinson to lead england fly-half jonny wilki...\n",
       "589     broadband fuels online change fast web access ...\n",
       "Name: text, Length: 445, dtype: object"
      ]
     },
     "execution_count": 9,
     "metadata": {},
     "output_type": "execute_result"
    }
   ],
   "source": [
    "test_text"
   ]
  },
  {
   "cell_type": "code",
   "execution_count": 10,
   "metadata": {},
   "outputs": [],
   "source": [
    "max_word=1000\n",
    "tokenize=keras.preprocessing.text.Tokenizer(num_words=max_word, \\\n",
    "                                            char_level=False)"
   ]
  },
  {
   "cell_type": "code",
   "execution_count": 13,
   "metadata": {},
   "outputs": [
    {
     "data": {
      "text/plain": [
       "array([[0., 1., 1., ..., 0., 0., 0.],\n",
       "       [0., 1., 1., ..., 0., 0., 0.],\n",
       "       [0., 1., 1., ..., 0., 0., 0.],\n",
       "       ...,\n",
       "       [0., 1., 1., ..., 0., 0., 0.],\n",
       "       [0., 1., 1., ..., 0., 0., 0.],\n",
       "       [0., 1., 1., ..., 0., 0., 0.]])"
      ]
     },
     "execution_count": 13,
     "metadata": {},
     "output_type": "execute_result"
    }
   ],
   "source": [
    "tokenize.fit_on_texts(train_text)\n",
    "x_train=tokenize.texts_to_matrix(train_text)\n",
    "x_test=tokenize.texts_to_matrix(test_text)\n",
    "x_train"
   ]
  },
  {
   "cell_type": "code",
   "execution_count": 14,
   "metadata": {},
   "outputs": [],
   "source": [
    "le=LabelEncoder()\n",
    "y_train=le.fit_transform(train_cat)\n",
    "encoded_y_train=keras.utils.to_categorical(y_train)\n",
    "y_test=le.fit_transform(test_cat)\n",
    "encoded_y_test=keras.utils.to_categorical(y_test)"
   ]
  },
  {
   "cell_type": "code",
   "execution_count": 15,
   "metadata": {},
   "outputs": [],
   "source": [
    "batch_size=32\n",
    "epochs=4\n",
    "drop_ratio=0.5"
   ]
  },
  {
   "cell_type": "code",
   "execution_count": 16,
   "metadata": {},
   "outputs": [],
   "source": [
    "model=tf.keras.models.Sequential([\n",
    "    tf.keras.layers.Input(shape=(max_word,)),\n",
    "    tf.keras.layers.Dense(512,activation='relu'),\n",
    "    tf.keras.layers.Dense(212,activation='relu'),\n",
    "    tf.keras.layers.Dense(5,activation='softmax')\n",
    "])"
   ]
  },
  {
   "cell_type": "code",
   "execution_count": 17,
   "metadata": {},
   "outputs": [],
   "source": [
    "model.compile(optimizer='adam',\n",
    "             loss='categorical_crossentropy',\n",
    "             metrics=['accuracy'])"
   ]
  },
  {
   "cell_type": "code",
   "execution_count": 18,
   "metadata": {},
   "outputs": [
    {
     "name": "stdout",
     "output_type": "stream",
     "text": [
      "Train on 1602 samples, validate on 178 samples\n",
      "Epoch 1/4\n",
      "1602/1602 [==============================] - 28s 17ms/sample - loss: 0.4653 - accuracy: 0.8452 - val_loss: 0.1196 - val_accuracy: 0.9607\n",
      "Epoch 2/4\n",
      "1602/1602 [==============================] - 3s 2ms/sample - loss: 0.0359 - accuracy: 0.9881 - val_loss: 0.0960 - val_accuracy: 0.9719\n",
      "Epoch 3/4\n",
      "1602/1602 [==============================] - 3s 2ms/sample - loss: 0.0044 - accuracy: 1.0000 - val_loss: 0.0888 - val_accuracy: 0.9663\n",
      "Epoch 4/4\n",
      "1602/1602 [==============================] - 4s 2ms/sample - loss: 0.0015 - accuracy: 1.0000 - val_loss: 0.0942 - val_accuracy: 0.9663\n"
     ]
    }
   ],
   "source": [
    "history=model.fit(x_train,encoded_y_train, batch_size=batch_size, epochs=epochs,verbose=1,validation_split=0.1)"
   ]
  },
  {
   "cell_type": "code",
   "execution_count": 19,
   "metadata": {},
   "outputs": [
    {
     "name": "stdout",
     "output_type": "stream",
     "text": [
      "1780/1 - 1s - loss: 0.1538 - accuracy: 0.9966\n"
     ]
    },
    {
     "data": {
      "text/plain": [
       "[0.010371879711119312, 0.99662924]"
      ]
     },
     "execution_count": 19,
     "metadata": {},
     "output_type": "execute_result"
    }
   ],
   "source": [
    "result=model.evaluate(x_train,encoded_y_train,verbose=2)\n",
    "result"
   ]
  },
  {
   "cell_type": "code",
   "execution_count": 20,
   "metadata": {},
   "outputs": [
    {
     "name": "stdout",
     "output_type": "stream",
     "text": [
      "445/1 - 0s - loss: 0.2185 - accuracy: 0.9461\n"
     ]
    },
    {
     "data": {
      "text/plain": [
       "[0.18330602404776583, 0.9460674]"
      ]
     },
     "execution_count": 20,
     "metadata": {},
     "output_type": "execute_result"
    }
   ],
   "source": [
    "result1=model.evaluate(x_test,encoded_y_test,verbose=2)\n",
    "result1"
   ]
  },
  {
   "cell_type": "code",
   "execution_count": 41,
   "metadata": {},
   "outputs": [
    {
     "name": "stdout",
     "output_type": "stream",
     "text": [
      "please enter a predected value:200\n"
     ]
    }
   ],
   "source": [
    "i=int(input('please enter a predected value:'))"
   ]
  },
  {
   "cell_type": "code",
   "execution_count": 42,
   "metadata": {},
   "outputs": [
    {
     "data": {
      "text/plain": [
       "array([[9.9998653e-01, 9.9828458e-06, 1.8861124e-07, 7.1318496e-08,\n",
       "        3.2628921e-06]], dtype=float32)"
      ]
     },
     "execution_count": 42,
     "metadata": {},
     "output_type": "execute_result"
    }
   ],
   "source": [
    "prediction=model.predict(np.array([x_test[i]]))\n",
    "prediction"
   ]
  },
  {
   "cell_type": "code",
   "execution_count": 43,
   "metadata": {},
   "outputs": [
    {
     "data": {
      "text/plain": [
       "'business'"
      ]
     },
     "execution_count": 43,
     "metadata": {},
     "output_type": "execute_result"
    }
   ],
   "source": [
    "text_labels = le.classes_\n",
    "predection_label= text_labels[np.argmax(prediction)]\n",
    "predection_label"
   ]
  },
  {
   "cell_type": "code",
   "execution_count": 44,
   "metadata": {},
   "outputs": [
    {
     "name": "stdout",
     "output_type": "stream",
     "text": [
      "Actual_lable:  business\n",
      "Predected_Lable:  business\n"
     ]
    }
   ],
   "source": [
    "print('Actual_lable: ',test_cat.iloc[i])\n",
    "print('Predected_Lable: ',predection_label)"
   ]
  },
  {
   "cell_type": "code",
   "execution_count": null,
   "metadata": {},
   "outputs": [],
   "source": []
  }
 ],
 "metadata": {
  "kernelspec": {
   "display_name": "Python 3",
   "language": "python",
   "name": "python3"
  },
  "language_info": {
   "codemirror_mode": {
    "name": "ipython",
    "version": 3
   },
   "file_extension": ".py",
   "mimetype": "text/x-python",
   "name": "python",
   "nbconvert_exporter": "python",
   "pygments_lexer": "ipython3",
   "version": "3.7.4"
  }
 },
 "nbformat": 4,
 "nbformat_minor": 2
}
