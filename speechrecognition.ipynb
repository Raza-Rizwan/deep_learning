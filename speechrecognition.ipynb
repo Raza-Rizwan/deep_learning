{
 "cells": [
  {
   "cell_type": "code",
   "execution_count": 16,
   "metadata": {},
   "outputs": [],
   "source": [
    "import speech_recognition as sr\n",
    "import webbrowser as wb"
   ]
  },
  {
   "cell_type": "code",
   "execution_count": 17,
   "metadata": {},
   "outputs": [],
   "source": [
    "r1=sr.Recognizer()\n",
    "r2=sr.Recognizer()\n",
    "r3=sr.Recognizer()"
   ]
  },
  {
   "cell_type": "code",
   "execution_count": 22,
   "metadata": {},
   "outputs": [
    {
     "name": "stdout",
     "output_type": "stream",
     "text": [
      "[spearch edureka: search youtube]\n",
      "Speck now:\n"
     ]
    }
   ],
   "source": [
    "with sr.Microphone() as source:\n",
    "    print('[spearch edureka: search youtube]')\n",
    "    print('Speck now:')\n",
    "    audio=r3.listen(source)\n",
    "    \n",
    "if 'edureka' in r2.recognize_google(audio):\n",
    "    r2=sr.Recognizer()\n",
    "    url='http://www.edureka.co/'\n",
    "    with sr.Microphone() as source:\n",
    "        print('search your query')\n",
    "        audio=r2.listen(source)\n",
    "        try:\n",
    "            get=r2.recognize_google(audio)\n",
    "            print(get)\n",
    "            wb.get().open_new(url+get)\n",
    "        except sr.UnknownValueError:\n",
    "                print('error')\n",
    "        except sr.RequestError as e:\n",
    "                print('failed:'.format(e))"
   ]
  },
  {
   "cell_type": "code",
   "execution_count": null,
   "metadata": {},
   "outputs": [],
   "source": []
  },
  {
   "cell_type": "code",
   "execution_count": null,
   "metadata": {},
   "outputs": [],
   "source": []
  }
 ],
 "metadata": {
  "kernelspec": {
   "display_name": "Python 3",
   "language": "python",
   "name": "python3"
  },
  "language_info": {
   "codemirror_mode": {
    "name": "ipython",
    "version": 3
   },
   "file_extension": ".py",
   "mimetype": "text/x-python",
   "name": "python",
   "nbconvert_exporter": "python",
   "pygments_lexer": "ipython3",
   "version": "3.7.4"
  }
 },
 "nbformat": 4,
 "nbformat_minor": 2
}
